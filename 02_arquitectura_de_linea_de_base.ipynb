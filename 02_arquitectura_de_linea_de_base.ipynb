{
  "nbformat": 4,
  "nbformat_minor": 0,
  "metadata": {
    "colab": {
      "provenance": [],
      "mount_file_id": "1d3Ktz2TUWGcOp1ufZMWy7aR_VmFc9Hcb",
      "authorship_tag": "ABX9TyPf+dpEkilE9OqP8ZqzSZU6",
      "include_colab_link": true
    },
    "kernelspec": {
      "name": "python3",
      "display_name": "Python 3"
    },
    "language_info": {
      "name": "python"
    }
  },
  "cells": [
    {
      "cell_type": "markdown",
      "metadata": {
        "id": "view-in-github",
        "colab_type": "text"
      },
      "source": [
        "<a href=\"https://colab.research.google.com/github/Carlygarciap/Proyecto-Deep-Learning/blob/main/02_arquitectura_de_linea_de_base.ipynb\" target=\"_parent\"><img src=\"https://colab.research.google.com/assets/colab-badge.svg\" alt=\"Open In Colab\"/></a>"
      ]
    },
    {
      "cell_type": "markdown",
      "source": [
        "\n",
        "#<font color=\"green\">**PROYECTO DEEP LEARNING**</font>\n",
        "\n",
        "**Carlos Mario García Peña**\n",
        "\n",
        "**Estudiante de Maestría en Ingeniería**\n",
        "\n",
        "**Curso: Fundamento de Deep Learning**\n"
      ],
      "metadata": {
        "id": "DS9dHLR7tTbQ"
      }
    },
    {
      "cell_type": "markdown",
      "source": [
        "##<font color=\"green\">**Introducción**</font>\n",
        "\n",
        "Actualmente, el planeta enfrenta cambios ambientales significativos, principalmente debido a la contaminación provocada por los gases de efecto invernadero. El sector del transporte desempeña un papel crucial en esta contribución a la degradación ambiental, lo que ha impulsado la necesidad de desarrollar estrategias para mitigar los efectos de estas emisiones.\n",
        "Para abordar este desafío, han surgido iniciativas centradas en la movilidad sostenible, como los vehículos eléctricos de dos ruedas, que incluyen bicicletas eléctricas, patinetas y otros medios de transporte ecológicos. Estos vehículos buscan fomentar un estilo de vida más responsable con el medio ambiente, promoviendo opciones de transporte que reduzcan la huella de carbono y ayuden a disminuir los efectos de la contaminación.\n",
        "Sin embargo, uno de los problemas más relevantes que enfrentan estos vehículos sostenibles es el desgaste de sus componentes, especialmente los motores eléctricos y las baterías. Estos elementos son propensos a fallas y representan un reto en términos de confiabilidad y mantenimiento.\n",
        "Este estudio se enfoca en la evaluación de estos componentes, con el objetivo de predecir el estado de las fallas de los motores eléctricos y las baterías en vehículos de movilidad sostenible. La capacidad de anticipar fallas permitirá tomar medidas preventivas y mejorar la eficiencia y durabilidad de estos medios de transporte, contribuyendo a un futuro más sostenible.\n"
      ],
      "metadata": {
        "id": "QIukm91WQ7M5"
      }
    },
    {
      "cell_type": "code",
      "source": [
        "# agregamos imagen\n",
        "from IPython.display import Image\n",
        "Image(url='https://i.ytimg.com/vi/z8MV6Wm2DLc/hq720.jpg?sqp=-oaymwE7CK4FEIIDSFryq4qpAy0IARUAAAAAGAElAADIQj0AgKJD8AEB-AH-CYAC0AWKAgwIABABGGsgayhrMA8=&rs=AOn4CLBWzxs3in1_4RyVFjfnl2rGArXOSw')"
      ],
      "metadata": {
        "colab": {
          "base_uri": "https://localhost:8080/",
          "height": 407
        },
        "id": "p_IMEcD-RiMi",
        "outputId": "ed585f1f-582a-4529-fccc-5b130cbadf05"
      },
      "execution_count": null,
      "outputs": [
        {
          "output_type": "execute_result",
          "data": {
            "text/html": [
              "<img src=\"https://i.ytimg.com/vi/z8MV6Wm2DLc/hq720.jpg?sqp=-oaymwE7CK4FEIIDSFryq4qpAy0IARUAAAAAGAElAADIQj0AgKJD8AEB-AH-CYAC0AWKAgwIABABGGsgayhrMA8=&rs=AOn4CLBWzxs3in1_4RyVFjfnl2rGArXOSw\"/>"
            ],
            "text/plain": [
              "<IPython.core.display.Image object>"
            ]
          },
          "metadata": {},
          "execution_count": 1
        }
      ]
    },
    {
      "cell_type": "markdown",
      "source": [
        "##<font color=\"green\">**Objetivos del Modelamiento**</font>\n",
        "\n",
        "Desarrollar un modelo predictivo que permita determinar el estado de salud de los componentes críticos en un motor eléctrico trifásico. Para ello, se busca utilizar variables que influyan en el desempeño del motor y que, de alguna manera, reflejen su estado de salud. El enfoque inicial es implementar un modelo de red neuronal Long Short Term Memory (LSTM) que ayude a predecir el estado del motor en dos categorías: funcionamiento normal o en estado de falla. Este modelo se basa en el análisis de variables cuantitativas que describen el comportamiento del motor, permitiendo identificar de manera precisa las condiciones en las que puede ocurrir una falla."
      ],
      "metadata": {
        "id": "tHvM98wCSGSf"
      }
    },
    {
      "cell_type": "markdown",
      "source": [
        "#<font color=\"green\">**Prueba para verificar el modelo**</font>\n"
      ],
      "metadata": {
        "id": "_QyEeLawtnHm"
      }
    },
    {
      "cell_type": "code",
      "source": [
        "# Cargamos librerias necesarias para la implementación\n",
        "\n",
        "import tensorflow as tf\n",
        "from tensorflow.keras.models import Sequential\n",
        "from tensorflow.keras.layers import LSTM, Dense, Dropout\n",
        "from sklearn.model_selection import train_test_split\n",
        "from sklearn.preprocessing import MinMaxScaler\n",
        "from sklearn.preprocessing import StandardScaler\n",
        "from sklearn.metrics import confusion_matrix\n",
        "import numpy as np\n",
        "import pandas as pd\n",
        "import seaborn as sns\n",
        "import matplotlib.pyplot as plt"
      ],
      "metadata": {
        "id": "kVbP3Iu1txuA"
      },
      "execution_count": null,
      "outputs": []
    },
    {
      "cell_type": "markdown",
      "source": [
        "##<font color=\"green\">**Cargamos datos y los preparamos para iniciar con la implementación del modelo**</font>"
      ],
      "metadata": {
        "id": "DDnNju1YukJW"
      }
    },
    {
      "cell_type": "code",
      "source": [
        "## Cargamos datos\n",
        "df = pd.read_csv(\"/content/drive/MyDrive/data_bici_nueva.csv\", sep = \";\", na_values = \"?\")\n",
        "df.head()"
      ],
      "metadata": {
        "colab": {
          "base_uri": "https://localhost:8080/",
          "height": 255
        },
        "id": "aV1BfwjMuXP4",
        "outputId": "ee21ee6b-389f-4c95-9cff-6895cef6da50"
      },
      "execution_count": null,
      "outputs": [
        {
          "output_type": "execute_result",
          "data": {
            "text/plain": [
              "   prueba  tiempo         fecha_exp  ciclo_bat  ciclo_motor     fecha  exp  \\\n",
              "0       1       4  20220929_E_1_B01         12           12  20220929  E01   \n",
              "1       2       5  20220929_E_1_B01         12           12  20220929  E01   \n",
              "2       3       6  20220929_E_1_B01         12           12  20220929  E01   \n",
              "3       3       7  20220929_E_1_B01         12           12  20220929  E01   \n",
              "4       5       8  20220929_E_1_B01         12           12  20220929  E01   \n",
              "\n",
              "   motor  bateria  peso_cond  ... VOLTAGE_D ENV_HUMIDITY  ENV_TEMPERATURE  \\\n",
              "0      2        1      112.0  ...     20.31        70.56            23.11   \n",
              "1      2        1      112.0  ...     20.31        70.56            23.11   \n",
              "2      2        1      112.0  ...     20.31        70.56            23.11   \n",
              "3      2        1      112.0  ...     20.30        70.56            23.11   \n",
              "4      2        1      112.0  ...     20.30        70.56            23.11   \n",
              "\n",
              "   new_time  RUL_reg  RUL_bat  RUL_motor  TEMPERATURE_MOTOR  anomaly_score  \\\n",
              "0         1     1683      602       2001                0.0       0.600408   \n",
              "1         2     1682      602       2001                0.0       0.598380   \n",
              "2         3     1681      602       2001                0.0       0.599190   \n",
              "3         4     1680      602       2001                0.0       0.599190   \n",
              "4         5     1679      602       2001                0.0       0.601221   \n",
              "\n",
              "   anomalias  \n",
              "0     normal  \n",
              "1     normal  \n",
              "2     normal  \n",
              "3     normal  \n",
              "4     normal  \n",
              "\n",
              "[5 rows x 43 columns]"
            ],
            "text/html": [
              "\n",
              "  <div id=\"df-8cba367e-8f03-40d9-bb0a-45c439ab872d\" class=\"colab-df-container\">\n",
              "    <div>\n",
              "<style scoped>\n",
              "    .dataframe tbody tr th:only-of-type {\n",
              "        vertical-align: middle;\n",
              "    }\n",
              "\n",
              "    .dataframe tbody tr th {\n",
              "        vertical-align: top;\n",
              "    }\n",
              "\n",
              "    .dataframe thead th {\n",
              "        text-align: right;\n",
              "    }\n",
              "</style>\n",
              "<table border=\"1\" class=\"dataframe\">\n",
              "  <thead>\n",
              "    <tr style=\"text-align: right;\">\n",
              "      <th></th>\n",
              "      <th>prueba</th>\n",
              "      <th>tiempo</th>\n",
              "      <th>fecha_exp</th>\n",
              "      <th>ciclo_bat</th>\n",
              "      <th>ciclo_motor</th>\n",
              "      <th>fecha</th>\n",
              "      <th>exp</th>\n",
              "      <th>motor</th>\n",
              "      <th>bateria</th>\n",
              "      <th>peso_cond</th>\n",
              "      <th>...</th>\n",
              "      <th>VOLTAGE_D</th>\n",
              "      <th>ENV_HUMIDITY</th>\n",
              "      <th>ENV_TEMPERATURE</th>\n",
              "      <th>new_time</th>\n",
              "      <th>RUL_reg</th>\n",
              "      <th>RUL_bat</th>\n",
              "      <th>RUL_motor</th>\n",
              "      <th>TEMPERATURE_MOTOR</th>\n",
              "      <th>anomaly_score</th>\n",
              "      <th>anomalias</th>\n",
              "    </tr>\n",
              "  </thead>\n",
              "  <tbody>\n",
              "    <tr>\n",
              "      <th>0</th>\n",
              "      <td>1</td>\n",
              "      <td>4</td>\n",
              "      <td>20220929_E_1_B01</td>\n",
              "      <td>12</td>\n",
              "      <td>12</td>\n",
              "      <td>20220929</td>\n",
              "      <td>E01</td>\n",
              "      <td>2</td>\n",
              "      <td>1</td>\n",
              "      <td>112.0</td>\n",
              "      <td>...</td>\n",
              "      <td>20.31</td>\n",
              "      <td>70.56</td>\n",
              "      <td>23.11</td>\n",
              "      <td>1</td>\n",
              "      <td>1683</td>\n",
              "      <td>602</td>\n",
              "      <td>2001</td>\n",
              "      <td>0.0</td>\n",
              "      <td>0.600408</td>\n",
              "      <td>normal</td>\n",
              "    </tr>\n",
              "    <tr>\n",
              "      <th>1</th>\n",
              "      <td>2</td>\n",
              "      <td>5</td>\n",
              "      <td>20220929_E_1_B01</td>\n",
              "      <td>12</td>\n",
              "      <td>12</td>\n",
              "      <td>20220929</td>\n",
              "      <td>E01</td>\n",
              "      <td>2</td>\n",
              "      <td>1</td>\n",
              "      <td>112.0</td>\n",
              "      <td>...</td>\n",
              "      <td>20.31</td>\n",
              "      <td>70.56</td>\n",
              "      <td>23.11</td>\n",
              "      <td>2</td>\n",
              "      <td>1682</td>\n",
              "      <td>602</td>\n",
              "      <td>2001</td>\n",
              "      <td>0.0</td>\n",
              "      <td>0.598380</td>\n",
              "      <td>normal</td>\n",
              "    </tr>\n",
              "    <tr>\n",
              "      <th>2</th>\n",
              "      <td>3</td>\n",
              "      <td>6</td>\n",
              "      <td>20220929_E_1_B01</td>\n",
              "      <td>12</td>\n",
              "      <td>12</td>\n",
              "      <td>20220929</td>\n",
              "      <td>E01</td>\n",
              "      <td>2</td>\n",
              "      <td>1</td>\n",
              "      <td>112.0</td>\n",
              "      <td>...</td>\n",
              "      <td>20.31</td>\n",
              "      <td>70.56</td>\n",
              "      <td>23.11</td>\n",
              "      <td>3</td>\n",
              "      <td>1681</td>\n",
              "      <td>602</td>\n",
              "      <td>2001</td>\n",
              "      <td>0.0</td>\n",
              "      <td>0.599190</td>\n",
              "      <td>normal</td>\n",
              "    </tr>\n",
              "    <tr>\n",
              "      <th>3</th>\n",
              "      <td>3</td>\n",
              "      <td>7</td>\n",
              "      <td>20220929_E_1_B01</td>\n",
              "      <td>12</td>\n",
              "      <td>12</td>\n",
              "      <td>20220929</td>\n",
              "      <td>E01</td>\n",
              "      <td>2</td>\n",
              "      <td>1</td>\n",
              "      <td>112.0</td>\n",
              "      <td>...</td>\n",
              "      <td>20.30</td>\n",
              "      <td>70.56</td>\n",
              "      <td>23.11</td>\n",
              "      <td>4</td>\n",
              "      <td>1680</td>\n",
              "      <td>602</td>\n",
              "      <td>2001</td>\n",
              "      <td>0.0</td>\n",
              "      <td>0.599190</td>\n",
              "      <td>normal</td>\n",
              "    </tr>\n",
              "    <tr>\n",
              "      <th>4</th>\n",
              "      <td>5</td>\n",
              "      <td>8</td>\n",
              "      <td>20220929_E_1_B01</td>\n",
              "      <td>12</td>\n",
              "      <td>12</td>\n",
              "      <td>20220929</td>\n",
              "      <td>E01</td>\n",
              "      <td>2</td>\n",
              "      <td>1</td>\n",
              "      <td>112.0</td>\n",
              "      <td>...</td>\n",
              "      <td>20.30</td>\n",
              "      <td>70.56</td>\n",
              "      <td>23.11</td>\n",
              "      <td>5</td>\n",
              "      <td>1679</td>\n",
              "      <td>602</td>\n",
              "      <td>2001</td>\n",
              "      <td>0.0</td>\n",
              "      <td>0.601221</td>\n",
              "      <td>normal</td>\n",
              "    </tr>\n",
              "  </tbody>\n",
              "</table>\n",
              "<p>5 rows × 43 columns</p>\n",
              "</div>\n",
              "    <div class=\"colab-df-buttons\">\n",
              "\n",
              "  <div class=\"colab-df-container\">\n",
              "    <button class=\"colab-df-convert\" onclick=\"convertToInteractive('df-8cba367e-8f03-40d9-bb0a-45c439ab872d')\"\n",
              "            title=\"Convert this dataframe to an interactive table.\"\n",
              "            style=\"display:none;\">\n",
              "\n",
              "  <svg xmlns=\"http://www.w3.org/2000/svg\" height=\"24px\" viewBox=\"0 -960 960 960\">\n",
              "    <path d=\"M120-120v-720h720v720H120Zm60-500h600v-160H180v160Zm220 220h160v-160H400v160Zm0 220h160v-160H400v160ZM180-400h160v-160H180v160Zm440 0h160v-160H620v160ZM180-180h160v-160H180v160Zm440 0h160v-160H620v160Z\"/>\n",
              "  </svg>\n",
              "    </button>\n",
              "\n",
              "  <style>\n",
              "    .colab-df-container {\n",
              "      display:flex;\n",
              "      gap: 12px;\n",
              "    }\n",
              "\n",
              "    .colab-df-convert {\n",
              "      background-color: #E8F0FE;\n",
              "      border: none;\n",
              "      border-radius: 50%;\n",
              "      cursor: pointer;\n",
              "      display: none;\n",
              "      fill: #1967D2;\n",
              "      height: 32px;\n",
              "      padding: 0 0 0 0;\n",
              "      width: 32px;\n",
              "    }\n",
              "\n",
              "    .colab-df-convert:hover {\n",
              "      background-color: #E2EBFA;\n",
              "      box-shadow: 0px 1px 2px rgba(60, 64, 67, 0.3), 0px 1px 3px 1px rgba(60, 64, 67, 0.15);\n",
              "      fill: #174EA6;\n",
              "    }\n",
              "\n",
              "    .colab-df-buttons div {\n",
              "      margin-bottom: 4px;\n",
              "    }\n",
              "\n",
              "    [theme=dark] .colab-df-convert {\n",
              "      background-color: #3B4455;\n",
              "      fill: #D2E3FC;\n",
              "    }\n",
              "\n",
              "    [theme=dark] .colab-df-convert:hover {\n",
              "      background-color: #434B5C;\n",
              "      box-shadow: 0px 1px 3px 1px rgba(0, 0, 0, 0.15);\n",
              "      filter: drop-shadow(0px 1px 2px rgba(0, 0, 0, 0.3));\n",
              "      fill: #FFFFFF;\n",
              "    }\n",
              "  </style>\n",
              "\n",
              "    <script>\n",
              "      const buttonEl =\n",
              "        document.querySelector('#df-8cba367e-8f03-40d9-bb0a-45c439ab872d button.colab-df-convert');\n",
              "      buttonEl.style.display =\n",
              "        google.colab.kernel.accessAllowed ? 'block' : 'none';\n",
              "\n",
              "      async function convertToInteractive(key) {\n",
              "        const element = document.querySelector('#df-8cba367e-8f03-40d9-bb0a-45c439ab872d');\n",
              "        const dataTable =\n",
              "          await google.colab.kernel.invokeFunction('convertToInteractive',\n",
              "                                                    [key], {});\n",
              "        if (!dataTable) return;\n",
              "\n",
              "        const docLinkHtml = 'Like what you see? Visit the ' +\n",
              "          '<a target=\"_blank\" href=https://colab.research.google.com/notebooks/data_table.ipynb>data table notebook</a>'\n",
              "          + ' to learn more about interactive tables.';\n",
              "        element.innerHTML = '';\n",
              "        dataTable['output_type'] = 'display_data';\n",
              "        await google.colab.output.renderOutput(dataTable, element);\n",
              "        const docLink = document.createElement('div');\n",
              "        docLink.innerHTML = docLinkHtml;\n",
              "        element.appendChild(docLink);\n",
              "      }\n",
              "    </script>\n",
              "  </div>\n",
              "\n",
              "\n",
              "<div id=\"df-145f9af0-4ddf-4435-a00b-ecf6cee854be\">\n",
              "  <button class=\"colab-df-quickchart\" onclick=\"quickchart('df-145f9af0-4ddf-4435-a00b-ecf6cee854be')\"\n",
              "            title=\"Suggest charts\"\n",
              "            style=\"display:none;\">\n",
              "\n",
              "<svg xmlns=\"http://www.w3.org/2000/svg\" height=\"24px\"viewBox=\"0 0 24 24\"\n",
              "     width=\"24px\">\n",
              "    <g>\n",
              "        <path d=\"M19 3H5c-1.1 0-2 .9-2 2v14c0 1.1.9 2 2 2h14c1.1 0 2-.9 2-2V5c0-1.1-.9-2-2-2zM9 17H7v-7h2v7zm4 0h-2V7h2v10zm4 0h-2v-4h2v4z\"/>\n",
              "    </g>\n",
              "</svg>\n",
              "  </button>\n",
              "\n",
              "<style>\n",
              "  .colab-df-quickchart {\n",
              "      --bg-color: #E8F0FE;\n",
              "      --fill-color: #1967D2;\n",
              "      --hover-bg-color: #E2EBFA;\n",
              "      --hover-fill-color: #174EA6;\n",
              "      --disabled-fill-color: #AAA;\n",
              "      --disabled-bg-color: #DDD;\n",
              "  }\n",
              "\n",
              "  [theme=dark] .colab-df-quickchart {\n",
              "      --bg-color: #3B4455;\n",
              "      --fill-color: #D2E3FC;\n",
              "      --hover-bg-color: #434B5C;\n",
              "      --hover-fill-color: #FFFFFF;\n",
              "      --disabled-bg-color: #3B4455;\n",
              "      --disabled-fill-color: #666;\n",
              "  }\n",
              "\n",
              "  .colab-df-quickchart {\n",
              "    background-color: var(--bg-color);\n",
              "    border: none;\n",
              "    border-radius: 50%;\n",
              "    cursor: pointer;\n",
              "    display: none;\n",
              "    fill: var(--fill-color);\n",
              "    height: 32px;\n",
              "    padding: 0;\n",
              "    width: 32px;\n",
              "  }\n",
              "\n",
              "  .colab-df-quickchart:hover {\n",
              "    background-color: var(--hover-bg-color);\n",
              "    box-shadow: 0 1px 2px rgba(60, 64, 67, 0.3), 0 1px 3px 1px rgba(60, 64, 67, 0.15);\n",
              "    fill: var(--button-hover-fill-color);\n",
              "  }\n",
              "\n",
              "  .colab-df-quickchart-complete:disabled,\n",
              "  .colab-df-quickchart-complete:disabled:hover {\n",
              "    background-color: var(--disabled-bg-color);\n",
              "    fill: var(--disabled-fill-color);\n",
              "    box-shadow: none;\n",
              "  }\n",
              "\n",
              "  .colab-df-spinner {\n",
              "    border: 2px solid var(--fill-color);\n",
              "    border-color: transparent;\n",
              "    border-bottom-color: var(--fill-color);\n",
              "    animation:\n",
              "      spin 1s steps(1) infinite;\n",
              "  }\n",
              "\n",
              "  @keyframes spin {\n",
              "    0% {\n",
              "      border-color: transparent;\n",
              "      border-bottom-color: var(--fill-color);\n",
              "      border-left-color: var(--fill-color);\n",
              "    }\n",
              "    20% {\n",
              "      border-color: transparent;\n",
              "      border-left-color: var(--fill-color);\n",
              "      border-top-color: var(--fill-color);\n",
              "    }\n",
              "    30% {\n",
              "      border-color: transparent;\n",
              "      border-left-color: var(--fill-color);\n",
              "      border-top-color: var(--fill-color);\n",
              "      border-right-color: var(--fill-color);\n",
              "    }\n",
              "    40% {\n",
              "      border-color: transparent;\n",
              "      border-right-color: var(--fill-color);\n",
              "      border-top-color: var(--fill-color);\n",
              "    }\n",
              "    60% {\n",
              "      border-color: transparent;\n",
              "      border-right-color: var(--fill-color);\n",
              "    }\n",
              "    80% {\n",
              "      border-color: transparent;\n",
              "      border-right-color: var(--fill-color);\n",
              "      border-bottom-color: var(--fill-color);\n",
              "    }\n",
              "    90% {\n",
              "      border-color: transparent;\n",
              "      border-bottom-color: var(--fill-color);\n",
              "    }\n",
              "  }\n",
              "</style>\n",
              "\n",
              "  <script>\n",
              "    async function quickchart(key) {\n",
              "      const quickchartButtonEl =\n",
              "        document.querySelector('#' + key + ' button');\n",
              "      quickchartButtonEl.disabled = true;  // To prevent multiple clicks.\n",
              "      quickchartButtonEl.classList.add('colab-df-spinner');\n",
              "      try {\n",
              "        const charts = await google.colab.kernel.invokeFunction(\n",
              "            'suggestCharts', [key], {});\n",
              "      } catch (error) {\n",
              "        console.error('Error during call to suggestCharts:', error);\n",
              "      }\n",
              "      quickchartButtonEl.classList.remove('colab-df-spinner');\n",
              "      quickchartButtonEl.classList.add('colab-df-quickchart-complete');\n",
              "    }\n",
              "    (() => {\n",
              "      let quickchartButtonEl =\n",
              "        document.querySelector('#df-145f9af0-4ddf-4435-a00b-ecf6cee854be button');\n",
              "      quickchartButtonEl.style.display =\n",
              "        google.colab.kernel.accessAllowed ? 'block' : 'none';\n",
              "    })();\n",
              "  </script>\n",
              "</div>\n",
              "\n",
              "    </div>\n",
              "  </div>\n"
            ],
            "application/vnd.google.colaboratory.intrinsic+json": {
              "type": "dataframe",
              "variable_name": "df"
            }
          },
          "metadata": {},
          "execution_count": 3
        }
      ]
    },
    {
      "cell_type": "code",
      "source": [
        "# Pasamos variables a factor t fecha a su formato date\n",
        "df[\"fecha\"] = pd.to_datetime(df[\"fecha\"], format = \"%Y%m%d\", errors = \"coerce\")\n",
        "df[\"motor\"] = df[\"motor\"].astype('category')\n",
        "df[\"bateria\"] = df[\"bateria\"].astype('category')\n",
        "df[\"exp\"] = df[\"exp\"].astype('string')\n",
        "df[\"lugar\"] = df[\"lugar\"].astype('category')\n",
        "df[\"ciclo_motor\"] = df[\"ciclo_motor\"].astype('category')\n",
        "df[\"prueba\"] = df[\"prueba\"].astype('category')\n",
        "df.info()"
      ],
      "metadata": {
        "colab": {
          "base_uri": "https://localhost:8080/"
        },
        "id": "-MeGrZWRvnv3",
        "outputId": "b3a1d649-dcdf-4b5c-844a-0b115221b545"
      },
      "execution_count": null,
      "outputs": [
        {
          "output_type": "stream",
          "name": "stdout",
          "text": [
            "<class 'pandas.core.frame.DataFrame'>\n",
            "RangeIndex: 78886 entries, 0 to 78885\n",
            "Data columns (total 43 columns):\n",
            " #   Column             Non-Null Count  Dtype         \n",
            "---  ------             --------------  -----         \n",
            " 0   prueba             78886 non-null  category      \n",
            " 1   tiempo             78886 non-null  int64         \n",
            " 2   fecha_exp          78886 non-null  object        \n",
            " 3   ciclo_bat          78886 non-null  int64         \n",
            " 4   ciclo_motor        78886 non-null  category      \n",
            " 5   fecha              78886 non-null  datetime64[ns]\n",
            " 6   exp                78886 non-null  string        \n",
            " 7   motor              78886 non-null  category      \n",
            " 8   bateria            78886 non-null  category      \n",
            " 9   peso_cond          78886 non-null  float64       \n",
            " 10  lugar              78886 non-null  category      \n",
            " 11  duracion           78886 non-null  object        \n",
            " 12  distancia          78886 non-null  float64       \n",
            " 13  vel_max            78886 non-null  float64       \n",
            " 14  vel_prom           78886 non-null  float64       \n",
            " 15  ACCELERATION_X     78886 non-null  float64       \n",
            " 16  ACCELERATION_Y     78886 non-null  float64       \n",
            " 17  ACCELERATION_Z     78886 non-null  float64       \n",
            " 18  CURRENT_A_CALC     78886 non-null  float64       \n",
            " 19  CURRENT_B_CALC     78886 non-null  float64       \n",
            " 20  CURRENT_C_CALC     78886 non-null  float64       \n",
            " 21  CURRENT_D_CALC     78886 non-null  float64       \n",
            " 22  POWER_A            78886 non-null  float64       \n",
            " 23  POWER_B            78886 non-null  float64       \n",
            " 24  POWER_C            78886 non-null  float64       \n",
            " 25  POWER_D            78886 non-null  float64       \n",
            " 26  TEMPERATURE_A      78886 non-null  float64       \n",
            " 27  TEMPERATURE_B      78886 non-null  float64       \n",
            " 28  TEMPERATURE_C      78886 non-null  float64       \n",
            " 29  TEMPERATURE_D      78886 non-null  float64       \n",
            " 30  VOLTAGE_A          78886 non-null  float64       \n",
            " 31  VOLTAGE_B          78886 non-null  float64       \n",
            " 32  VOLTAGE_C          78886 non-null  float64       \n",
            " 33  VOLTAGE_D          78886 non-null  float64       \n",
            " 34  ENV_HUMIDITY       78886 non-null  float64       \n",
            " 35  ENV_TEMPERATURE    78886 non-null  float64       \n",
            " 36  new_time           78886 non-null  int64         \n",
            " 37  RUL_reg            78886 non-null  int64         \n",
            " 38  RUL_bat            78886 non-null  int64         \n",
            " 39  RUL_motor          78886 non-null  int64         \n",
            " 40  TEMPERATURE_MOTOR  78886 non-null  float64       \n",
            " 41  anomaly_score      78886 non-null  float64       \n",
            " 42  anomalias          78886 non-null  object        \n",
            "dtypes: category(5), datetime64[ns](1), float64(27), int64(6), object(3), string(1)\n",
            "memory usage: 26.1+ MB\n"
          ]
        }
      ]
    },
    {
      "cell_type": "code",
      "source": [
        "# Eliminamos variables que no utilizaremos\n",
        "# Lista de variables a no utilizar\n",
        "variables_a_eliminar = [\"exp\", \"motor\", \"bateria\", \"lugar\", \"RUL_motor\", \"RUL_bat\", \"RUL_reg\", \"ciclo_bat\", \"new_time\", \"vel_max\",\n",
        "                       \"vel_prom\", \"distancia\", \"duracion\", \"fecha_exp\", \"peso_cond\", \"tiempo\", \"fecha\", \"ciclo_motor\", \"TEMPERATURE_A\",\n",
        "                        \"TEMPERATURE_B\", \"TEMPERATURE_C\", \"TEMPERATURE_D\",\"CURRENT_A_CALC\", \"VOLTAGE_A\", \"POWER_A\",  \"ACCELERATION_X\",\n",
        "                        \"ACCELERATION_Y\",\"ACCELERATION_Z\", \"prueba\", \"anomaly_score\", \"ENV_HUMIDITY\", \"ENV_HUMIDITY\" ]\n",
        "\n",
        "# Elimina las columnas del DataFrame\n",
        "df_nuevo = df.drop(variables_a_eliminar, axis=1)\n",
        "# Use the map function to transform the column\n",
        "anomalias_mapping = {'normal': 0, 'falla': 1}\n",
        "df_nuevo['anomalias'] = df_nuevo['anomalias'].map(anomalias_mapping)\n",
        "# \"axis=1\" Nos indica que queremos eliminar columnas. si fueran filas era \"axis=0\"\n",
        "\n",
        "# Convert the 'anomalias' column to numerical representation\n",
        "# Create a dictionary to map categories to numerical values\n",
        "\n",
        "\n",
        "# Imprime el nuevo DataFrame sin las columnas eliminadas\n",
        "print(df_nuevo)\n",
        "\n"
      ],
      "metadata": {
        "colab": {
          "base_uri": "https://localhost:8080/"
        },
        "id": "y1ES2qVpvrnA",
        "outputId": "34c5307e-28a2-4860-bfac-8dd27019e548"
      },
      "execution_count": null,
      "outputs": [
        {
          "output_type": "stream",
          "name": "stdout",
          "text": [
            "       CURRENT_B_CALC  CURRENT_C_CALC  CURRENT_D_CALC  POWER_B  POWER_C  \\\n",
            "0                0.08           0.080           0.090     0.00     0.00   \n",
            "1                0.08           0.090           0.070     0.00     0.00   \n",
            "2                0.09           0.070           0.060     0.00     0.00   \n",
            "3                0.08           0.090           0.100     0.00     0.00   \n",
            "4                0.07           0.070           0.070     0.00     0.00   \n",
            "...               ...             ...             ...      ...      ...   \n",
            "78881           11.29           8.460           7.110     0.58     0.44   \n",
            "78882            6.44           2.220           8.035     0.33     0.12   \n",
            "78883            7.18           7.020           8.960     0.37     0.36   \n",
            "78884            6.24           6.695           0.730     0.32     0.36   \n",
            "78885            6.21           6.370           6.980     0.32     0.33   \n",
            "\n",
            "       POWER_D  VOLTAGE_B  VOLTAGE_C  VOLTAGE_D  ENV_TEMPERATURE  \\\n",
            "0         0.00      20.31     20.210      20.31            23.11   \n",
            "1         0.00      20.31     20.210      20.31            23.11   \n",
            "2         0.00      20.31     20.210      20.31            23.11   \n",
            "3         0.01      20.30     20.210      20.30            23.11   \n",
            "4         0.00      20.30     20.210      20.30            23.11   \n",
            "...        ...        ...        ...        ...              ...   \n",
            "78881     0.37      14.82     14.765      14.83            22.72   \n",
            "78882     0.15      14.79     14.760      14.83            22.72   \n",
            "78883     0.46      14.81     14.750      14.82            22.72   \n",
            "78884     0.04      14.83     14.750      14.81            22.72   \n",
            "78885     0.36      14.81     14.750      14.81            22.72   \n",
            "\n",
            "       TEMPERATURE_MOTOR  anomalias  \n",
            "0                   0.00          0  \n",
            "1                   0.00          0  \n",
            "2                   0.00          0  \n",
            "3                   0.00          0  \n",
            "4                   0.00          0  \n",
            "...                  ...        ...  \n",
            "78881              31.21          0  \n",
            "78882              31.21          0  \n",
            "78883              31.21          0  \n",
            "78884              31.21          0  \n",
            "78885              31.21          0  \n",
            "\n",
            "[78886 rows x 12 columns]\n"
          ]
        }
      ]
    },
    {
      "cell_type": "code",
      "source": [
        "# Separamos las características de la etiqueta\n",
        "X = df_nuevo.drop(\"anomalias\", axis=1).values\n",
        "y = df_nuevo[\"anomalias\"].values\n",
        "\n",
        "# Escalmos los datos para mejorar el rendimiento del modelo\n",
        "scaler = MinMaxScaler(feature_range = (0, 1))\n",
        "X_scaled = scaler.fit_transform(X)\n",
        "\n",
        "# Se dividen en conjuntos de entrenamiento y prueba\n",
        "X_train, X_test, y_train, y_test = train_test_split(X_scaled, y, test_size=0.3, random_state=42)\n",
        "\n",
        "# Reajustamos las dimensiones para que LSTM pueda procesar los datos\n",
        "# Añadimos una dimensión temporal (secuencia de 1 valor por cada caracteristica en este caso)\n",
        "X_train = X_train.reshape((X_train.shape[0], 1, X_train.shape[1]))\n",
        "X_test = X_test.reshape((X_test.shape[0], 1, X_test.shape[1]))"
      ],
      "metadata": {
        "id": "PRMnsY_lxr-u"
      },
      "execution_count": null,
      "outputs": []
    },
    {
      "cell_type": "markdown",
      "source": [
        "##<font color=\"green\">**Definimos el Modelo RNN (LSTM)**</font>\n",
        "\n",
        "Definimos el modelo de red secuencial utilizando capas LSTM, que son adecuadas para trabajar con series temporales. Usaremos también capas de dropout para evitar el sobreajuste."
      ],
      "metadata": {
        "id": "BeWhK9YQzMvt"
      }
    },
    {
      "cell_type": "code",
      "source": [
        "# Creamos el modelo LSTM\n",
        "model = Sequential()\n",
        "\n",
        "# Primera capa LSTM\n",
        "model.add(LSTM(128, activation= \"tanh\", return_sequences=True, input_shape=(X_train.shape[1], X_train.shape[2])))\n",
        "model.add(Dropout(0.3))\n",
        "\n",
        "# Segunda capa LSTM\n",
        "model.add(LSTM(64, activation= \"tanh\", return_sequences=False))\n",
        "model.add(Dropout(0.3))\n",
        "\n",
        "# Capa densa final\n",
        "model.add(Dense(1, activation= \"sigmoid\"))\n",
        "\n",
        "# Compilar el modelo\n",
        "model.compile(optimizer= \"adam\", loss= \"mse\", metrics=[\"accuracy\"])\n",
        "\n",
        "# Resumen del modelo\n",
        "model.summary()\n"
      ],
      "metadata": {
        "colab": {
          "base_uri": "https://localhost:8080/",
          "height": 356
        },
        "id": "Vpy9yuUezfsd",
        "outputId": "7760c045-94e8-488c-8ab2-b421f232f163"
      },
      "execution_count": null,
      "outputs": [
        {
          "output_type": "stream",
          "name": "stderr",
          "text": [
            "/usr/local/lib/python3.10/dist-packages/keras/src/layers/rnn/rnn.py:204: UserWarning: Do not pass an `input_shape`/`input_dim` argument to a layer. When using Sequential models, prefer using an `Input(shape)` object as the first layer in the model instead.\n",
            "  super().__init__(**kwargs)\n"
          ]
        },
        {
          "output_type": "display_data",
          "data": {
            "text/plain": [
              "\u001b[1mModel: \"sequential\"\u001b[0m\n"
            ],
            "text/html": [
              "<pre style=\"white-space:pre;overflow-x:auto;line-height:normal;font-family:Menlo,'DejaVu Sans Mono',consolas,'Courier New',monospace\"><span style=\"font-weight: bold\">Model: \"sequential\"</span>\n",
              "</pre>\n"
            ]
          },
          "metadata": {}
        },
        {
          "output_type": "display_data",
          "data": {
            "text/plain": [
              "┏━━━━━━━━━━━━━━━━━━━━━━━━━━━━━━━━━━━━━━┳━━━━━━━━━━━━━━━━━━━━━━━━━━━━━┳━━━━━━━━━━━━━━━━━┓\n",
              "┃\u001b[1m \u001b[0m\u001b[1mLayer (type)                        \u001b[0m\u001b[1m \u001b[0m┃\u001b[1m \u001b[0m\u001b[1mOutput Shape               \u001b[0m\u001b[1m \u001b[0m┃\u001b[1m \u001b[0m\u001b[1m        Param #\u001b[0m\u001b[1m \u001b[0m┃\n",
              "┡━━━━━━━━━━━━━━━━━━━━━━━━━━━━━━━━━━━━━━╇━━━━━━━━━━━━━━━━━━━━━━━━━━━━━╇━━━━━━━━━━━━━━━━━┩\n",
              "│ lstm (\u001b[38;5;33mLSTM\u001b[0m)                          │ (\u001b[38;5;45mNone\u001b[0m, \u001b[38;5;34m1\u001b[0m, \u001b[38;5;34m128\u001b[0m)              │          \u001b[38;5;34m71,680\u001b[0m │\n",
              "├──────────────────────────────────────┼─────────────────────────────┼─────────────────┤\n",
              "│ dropout (\u001b[38;5;33mDropout\u001b[0m)                    │ (\u001b[38;5;45mNone\u001b[0m, \u001b[38;5;34m1\u001b[0m, \u001b[38;5;34m128\u001b[0m)              │               \u001b[38;5;34m0\u001b[0m │\n",
              "├──────────────────────────────────────┼─────────────────────────────┼─────────────────┤\n",
              "│ lstm_1 (\u001b[38;5;33mLSTM\u001b[0m)                        │ (\u001b[38;5;45mNone\u001b[0m, \u001b[38;5;34m64\u001b[0m)                  │          \u001b[38;5;34m49,408\u001b[0m │\n",
              "├──────────────────────────────────────┼─────────────────────────────┼─────────────────┤\n",
              "│ dropout_1 (\u001b[38;5;33mDropout\u001b[0m)                  │ (\u001b[38;5;45mNone\u001b[0m, \u001b[38;5;34m64\u001b[0m)                  │               \u001b[38;5;34m0\u001b[0m │\n",
              "├──────────────────────────────────────┼─────────────────────────────┼─────────────────┤\n",
              "│ dense (\u001b[38;5;33mDense\u001b[0m)                        │ (\u001b[38;5;45mNone\u001b[0m, \u001b[38;5;34m1\u001b[0m)                   │              \u001b[38;5;34m65\u001b[0m │\n",
              "└──────────────────────────────────────┴─────────────────────────────┴─────────────────┘\n"
            ],
            "text/html": [
              "<pre style=\"white-space:pre;overflow-x:auto;line-height:normal;font-family:Menlo,'DejaVu Sans Mono',consolas,'Courier New',monospace\">┏━━━━━━━━━━━━━━━━━━━━━━━━━━━━━━━━━━━━━━┳━━━━━━━━━━━━━━━━━━━━━━━━━━━━━┳━━━━━━━━━━━━━━━━━┓\n",
              "┃<span style=\"font-weight: bold\"> Layer (type)                         </span>┃<span style=\"font-weight: bold\"> Output Shape                </span>┃<span style=\"font-weight: bold\">         Param # </span>┃\n",
              "┡━━━━━━━━━━━━━━━━━━━━━━━━━━━━━━━━━━━━━━╇━━━━━━━━━━━━━━━━━━━━━━━━━━━━━╇━━━━━━━━━━━━━━━━━┩\n",
              "│ lstm (<span style=\"color: #0087ff; text-decoration-color: #0087ff\">LSTM</span>)                          │ (<span style=\"color: #00d7ff; text-decoration-color: #00d7ff\">None</span>, <span style=\"color: #00af00; text-decoration-color: #00af00\">1</span>, <span style=\"color: #00af00; text-decoration-color: #00af00\">128</span>)              │          <span style=\"color: #00af00; text-decoration-color: #00af00\">71,680</span> │\n",
              "├──────────────────────────────────────┼─────────────────────────────┼─────────────────┤\n",
              "│ dropout (<span style=\"color: #0087ff; text-decoration-color: #0087ff\">Dropout</span>)                    │ (<span style=\"color: #00d7ff; text-decoration-color: #00d7ff\">None</span>, <span style=\"color: #00af00; text-decoration-color: #00af00\">1</span>, <span style=\"color: #00af00; text-decoration-color: #00af00\">128</span>)              │               <span style=\"color: #00af00; text-decoration-color: #00af00\">0</span> │\n",
              "├──────────────────────────────────────┼─────────────────────────────┼─────────────────┤\n",
              "│ lstm_1 (<span style=\"color: #0087ff; text-decoration-color: #0087ff\">LSTM</span>)                        │ (<span style=\"color: #00d7ff; text-decoration-color: #00d7ff\">None</span>, <span style=\"color: #00af00; text-decoration-color: #00af00\">64</span>)                  │          <span style=\"color: #00af00; text-decoration-color: #00af00\">49,408</span> │\n",
              "├──────────────────────────────────────┼─────────────────────────────┼─────────────────┤\n",
              "│ dropout_1 (<span style=\"color: #0087ff; text-decoration-color: #0087ff\">Dropout</span>)                  │ (<span style=\"color: #00d7ff; text-decoration-color: #00d7ff\">None</span>, <span style=\"color: #00af00; text-decoration-color: #00af00\">64</span>)                  │               <span style=\"color: #00af00; text-decoration-color: #00af00\">0</span> │\n",
              "├──────────────────────────────────────┼─────────────────────────────┼─────────────────┤\n",
              "│ dense (<span style=\"color: #0087ff; text-decoration-color: #0087ff\">Dense</span>)                        │ (<span style=\"color: #00d7ff; text-decoration-color: #00d7ff\">None</span>, <span style=\"color: #00af00; text-decoration-color: #00af00\">1</span>)                   │              <span style=\"color: #00af00; text-decoration-color: #00af00\">65</span> │\n",
              "└──────────────────────────────────────┴─────────────────────────────┴─────────────────┘\n",
              "</pre>\n"
            ]
          },
          "metadata": {}
        },
        {
          "output_type": "display_data",
          "data": {
            "text/plain": [
              "\u001b[1m Total params: \u001b[0m\u001b[38;5;34m121,153\u001b[0m (473.25 KB)\n"
            ],
            "text/html": [
              "<pre style=\"white-space:pre;overflow-x:auto;line-height:normal;font-family:Menlo,'DejaVu Sans Mono',consolas,'Courier New',monospace\"><span style=\"font-weight: bold\"> Total params: </span><span style=\"color: #00af00; text-decoration-color: #00af00\">121,153</span> (473.25 KB)\n",
              "</pre>\n"
            ]
          },
          "metadata": {}
        },
        {
          "output_type": "display_data",
          "data": {
            "text/plain": [
              "\u001b[1m Trainable params: \u001b[0m\u001b[38;5;34m121,153\u001b[0m (473.25 KB)\n"
            ],
            "text/html": [
              "<pre style=\"white-space:pre;overflow-x:auto;line-height:normal;font-family:Menlo,'DejaVu Sans Mono',consolas,'Courier New',monospace\"><span style=\"font-weight: bold\"> Trainable params: </span><span style=\"color: #00af00; text-decoration-color: #00af00\">121,153</span> (473.25 KB)\n",
              "</pre>\n"
            ]
          },
          "metadata": {}
        },
        {
          "output_type": "display_data",
          "data": {
            "text/plain": [
              "\u001b[1m Non-trainable params: \u001b[0m\u001b[38;5;34m0\u001b[0m (0.00 B)\n"
            ],
            "text/html": [
              "<pre style=\"white-space:pre;overflow-x:auto;line-height:normal;font-family:Menlo,'DejaVu Sans Mono',consolas,'Courier New',monospace\"><span style=\"font-weight: bold\"> Non-trainable params: </span><span style=\"color: #00af00; text-decoration-color: #00af00\">0</span> (0.00 B)\n",
              "</pre>\n"
            ]
          },
          "metadata": {}
        }
      ]
    },
    {
      "cell_type": "markdown",
      "source": [
        "##<font color=\"green\">**Entrenamiento del Modelo**</font>\n",
        "\n",
        "Entrenamos el modelo utilizando los datos de entrenamiento y validamos su rendimiento en el conjunto de prueba."
      ],
      "metadata": {
        "id": "ZG7rRHlPzt9W"
      }
    },
    {
      "cell_type": "code",
      "source": [
        "# Entrenamos modelo\n",
        "history = model.fit(X_train, y_train, epochs=100, batch_size=128, validation_data=(X_test, y_test))\n"
      ],
      "metadata": {
        "colab": {
          "base_uri": "https://localhost:8080/"
        },
        "id": "0PhvPXciz_E-",
        "outputId": "be2f0790-e026-4b89-b6a8-3b0fb5e881b9"
      },
      "execution_count": null,
      "outputs": [
        {
          "output_type": "stream",
          "name": "stdout",
          "text": [
            "Epoch 1/100\n",
            "\u001b[1m432/432\u001b[0m \u001b[32m━━━━━━━━━━━━━━━━━━━━\u001b[0m\u001b[37m\u001b[0m \u001b[1m9s\u001b[0m 13ms/step - accuracy: 0.9483 - loss: 0.0891 - val_accuracy: 0.9526 - val_loss: 0.0374\n",
            "Epoch 2/100\n",
            "\u001b[1m432/432\u001b[0m \u001b[32m━━━━━━━━━━━━━━━━━━━━\u001b[0m\u001b[37m\u001b[0m \u001b[1m6s\u001b[0m 14ms/step - accuracy: 0.9539 - loss: 0.0384 - val_accuracy: 0.9598 - val_loss: 0.0350\n",
            "Epoch 3/100\n",
            "\u001b[1m432/432\u001b[0m \u001b[32m━━━━━━━━━━━━━━━━━━━━\u001b[0m\u001b[37m\u001b[0m \u001b[1m5s\u001b[0m 11ms/step - accuracy: 0.9587 - loss: 0.0364 - val_accuracy: 0.9595 - val_loss: 0.0344\n",
            "Epoch 4/100\n",
            "\u001b[1m432/432\u001b[0m \u001b[32m━━━━━━━━━━━━━━━━━━━━\u001b[0m\u001b[37m\u001b[0m \u001b[1m6s\u001b[0m 14ms/step - accuracy: 0.9584 - loss: 0.0363 - val_accuracy: 0.9607 - val_loss: 0.0337\n",
            "Epoch 5/100\n",
            "\u001b[1m432/432\u001b[0m \u001b[32m━━━━━━━━━━━━━━━━━━━━\u001b[0m\u001b[37m\u001b[0m \u001b[1m11s\u001b[0m 17ms/step - accuracy: 0.9593 - loss: 0.0349 - val_accuracy: 0.9620 - val_loss: 0.0329\n",
            "Epoch 6/100\n",
            "\u001b[1m432/432\u001b[0m \u001b[32m━━━━━━━━━━━━━━━━━━━━\u001b[0m\u001b[37m\u001b[0m \u001b[1m11s\u001b[0m 25ms/step - accuracy: 0.9608 - loss: 0.0341 - val_accuracy: 0.9619 - val_loss: 0.0324\n",
            "Epoch 7/100\n",
            "\u001b[1m432/432\u001b[0m \u001b[32m━━━━━━━━━━━━━━━━━━━━\u001b[0m\u001b[37m\u001b[0m \u001b[1m11s\u001b[0m 25ms/step - accuracy: 0.9612 - loss: 0.0335 - val_accuracy: 0.9624 - val_loss: 0.0311\n",
            "Epoch 8/100\n",
            "\u001b[1m432/432\u001b[0m \u001b[32m━━━━━━━━━━━━━━━━━━━━\u001b[0m\u001b[37m\u001b[0m \u001b[1m9s\u001b[0m 21ms/step - accuracy: 0.9604 - loss: 0.0333 - val_accuracy: 0.9623 - val_loss: 0.0305\n",
            "Epoch 9/100\n",
            "\u001b[1m432/432\u001b[0m \u001b[32m━━━━━━━━━━━━━━━━━━━━\u001b[0m\u001b[37m\u001b[0m \u001b[1m6s\u001b[0m 14ms/step - accuracy: 0.9598 - loss: 0.0335 - val_accuracy: 0.9631 - val_loss: 0.0301\n",
            "Epoch 10/100\n",
            "\u001b[1m432/432\u001b[0m \u001b[32m━━━━━━━━━━━━━━━━━━━━\u001b[0m\u001b[37m\u001b[0m \u001b[1m8s\u001b[0m 10ms/step - accuracy: 0.9606 - loss: 0.0326 - val_accuracy: 0.9624 - val_loss: 0.0302\n",
            "Epoch 11/100\n",
            "\u001b[1m432/432\u001b[0m \u001b[32m━━━━━━━━━━━━━━━━━━━━\u001b[0m\u001b[37m\u001b[0m \u001b[1m7s\u001b[0m 15ms/step - accuracy: 0.9605 - loss: 0.0324 - val_accuracy: 0.9636 - val_loss: 0.0297\n",
            "Epoch 12/100\n",
            "\u001b[1m432/432\u001b[0m \u001b[32m━━━━━━━━━━━━━━━━━━━━\u001b[0m\u001b[37m\u001b[0m \u001b[1m4s\u001b[0m 10ms/step - accuracy: 0.9623 - loss: 0.0307 - val_accuracy: 0.9636 - val_loss: 0.0294\n",
            "Epoch 13/100\n",
            "\u001b[1m432/432\u001b[0m \u001b[32m━━━━━━━━━━━━━━━━━━━━\u001b[0m\u001b[37m\u001b[0m \u001b[1m5s\u001b[0m 10ms/step - accuracy: 0.9624 - loss: 0.0306 - val_accuracy: 0.9632 - val_loss: 0.0291\n",
            "Epoch 14/100\n",
            "\u001b[1m432/432\u001b[0m \u001b[32m━━━━━━━━━━━━━━━━━━━━\u001b[0m\u001b[37m\u001b[0m \u001b[1m7s\u001b[0m 17ms/step - accuracy: 0.9631 - loss: 0.0302 - val_accuracy: 0.9623 - val_loss: 0.0291\n",
            "Epoch 15/100\n",
            "\u001b[1m432/432\u001b[0m \u001b[32m━━━━━━━━━━━━━━━━━━━━\u001b[0m\u001b[37m\u001b[0m \u001b[1m8s\u001b[0m 10ms/step - accuracy: 0.9617 - loss: 0.0310 - val_accuracy: 0.9632 - val_loss: 0.0286\n",
            "Epoch 16/100\n",
            "\u001b[1m432/432\u001b[0m \u001b[32m━━━━━━━━━━━━━━━━━━━━\u001b[0m\u001b[37m\u001b[0m \u001b[1m7s\u001b[0m 16ms/step - accuracy: 0.9601 - loss: 0.0318 - val_accuracy: 0.9640 - val_loss: 0.0286\n",
            "Epoch 17/100\n",
            "\u001b[1m432/432\u001b[0m \u001b[32m━━━━━━━━━━━━━━━━━━━━\u001b[0m\u001b[37m\u001b[0m \u001b[1m8s\u001b[0m 10ms/step - accuracy: 0.9622 - loss: 0.0309 - val_accuracy: 0.9625 - val_loss: 0.0290\n",
            "Epoch 18/100\n",
            "\u001b[1m432/432\u001b[0m \u001b[32m━━━━━━━━━━━━━━━━━━━━\u001b[0m\u001b[37m\u001b[0m \u001b[1m7s\u001b[0m 15ms/step - accuracy: 0.9631 - loss: 0.0297 - val_accuracy: 0.9648 - val_loss: 0.0282\n",
            "Epoch 19/100\n",
            "\u001b[1m432/432\u001b[0m \u001b[32m━━━━━━━━━━━━━━━━━━━━\u001b[0m\u001b[37m\u001b[0m \u001b[1m5s\u001b[0m 11ms/step - accuracy: 0.9628 - loss: 0.0302 - val_accuracy: 0.9647 - val_loss: 0.0280\n",
            "Epoch 20/100\n",
            "\u001b[1m432/432\u001b[0m \u001b[32m━━━━━━━━━━━━━━━━━━━━\u001b[0m\u001b[37m\u001b[0m \u001b[1m5s\u001b[0m 11ms/step - accuracy: 0.9616 - loss: 0.0305 - val_accuracy: 0.9639 - val_loss: 0.0282\n",
            "Epoch 21/100\n",
            "\u001b[1m432/432\u001b[0m \u001b[32m━━━━━━━━━━━━━━━━━━━━\u001b[0m\u001b[37m\u001b[0m \u001b[1m7s\u001b[0m 16ms/step - accuracy: 0.9640 - loss: 0.0290 - val_accuracy: 0.9653 - val_loss: 0.0276\n",
            "Epoch 22/100\n",
            "\u001b[1m432/432\u001b[0m \u001b[32m━━━━━━━━━━━━━━━━━━━━\u001b[0m\u001b[37m\u001b[0m \u001b[1m5s\u001b[0m 10ms/step - accuracy: 0.9630 - loss: 0.0299 - val_accuracy: 0.9652 - val_loss: 0.0280\n",
            "Epoch 23/100\n",
            "\u001b[1m432/432\u001b[0m \u001b[32m━━━━━━━━━━━━━━━━━━━━\u001b[0m\u001b[37m\u001b[0m \u001b[1m5s\u001b[0m 12ms/step - accuracy: 0.9646 - loss: 0.0289 - val_accuracy: 0.9661 - val_loss: 0.0274\n",
            "Epoch 24/100\n",
            "\u001b[1m432/432\u001b[0m \u001b[32m━━━━━━━━━━━━━━━━━━━━\u001b[0m\u001b[37m\u001b[0m \u001b[1m6s\u001b[0m 14ms/step - accuracy: 0.9648 - loss: 0.0289 - val_accuracy: 0.9650 - val_loss: 0.0278\n",
            "Epoch 25/100\n",
            "\u001b[1m432/432\u001b[0m \u001b[32m━━━━━━━━━━━━━━━━━━━━\u001b[0m\u001b[37m\u001b[0m \u001b[1m4s\u001b[0m 10ms/step - accuracy: 0.9634 - loss: 0.0296 - val_accuracy: 0.9679 - val_loss: 0.0268\n",
            "Epoch 26/100\n",
            "\u001b[1m432/432\u001b[0m \u001b[32m━━━━━━━━━━━━━━━━━━━━\u001b[0m\u001b[37m\u001b[0m \u001b[1m6s\u001b[0m 13ms/step - accuracy: 0.9651 - loss: 0.0287 - val_accuracy: 0.9670 - val_loss: 0.0266\n",
            "Epoch 27/100\n",
            "\u001b[1m432/432\u001b[0m \u001b[32m━━━━━━━━━━━━━━━━━━━━\u001b[0m\u001b[37m\u001b[0m \u001b[1m7s\u001b[0m 15ms/step - accuracy: 0.9659 - loss: 0.0278 - val_accuracy: 0.9666 - val_loss: 0.0267\n",
            "Epoch 28/100\n",
            "\u001b[1m432/432\u001b[0m \u001b[32m━━━━━━━━━━━━━━━━━━━━\u001b[0m\u001b[37m\u001b[0m \u001b[1m4s\u001b[0m 10ms/step - accuracy: 0.9651 - loss: 0.0288 - val_accuracy: 0.9679 - val_loss: 0.0266\n",
            "Epoch 29/100\n",
            "\u001b[1m432/432\u001b[0m \u001b[32m━━━━━━━━━━━━━━━━━━━━\u001b[0m\u001b[37m\u001b[0m \u001b[1m7s\u001b[0m 17ms/step - accuracy: 0.9652 - loss: 0.0291 - val_accuracy: 0.9679 - val_loss: 0.0265\n",
            "Epoch 30/100\n",
            "\u001b[1m432/432\u001b[0m \u001b[32m━━━━━━━━━━━━━━━━━━━━\u001b[0m\u001b[37m\u001b[0m \u001b[1m5s\u001b[0m 11ms/step - accuracy: 0.9666 - loss: 0.0278 - val_accuracy: 0.9683 - val_loss: 0.0262\n",
            "Epoch 31/100\n",
            "\u001b[1m432/432\u001b[0m \u001b[32m━━━━━━━━━━━━━━━━━━━━\u001b[0m\u001b[37m\u001b[0m \u001b[1m6s\u001b[0m 12ms/step - accuracy: 0.9648 - loss: 0.0290 - val_accuracy: 0.9688 - val_loss: 0.0259\n",
            "Epoch 32/100\n",
            "\u001b[1m432/432\u001b[0m \u001b[32m━━━━━━━━━━━━━━━━━━━━\u001b[0m\u001b[37m\u001b[0m \u001b[1m9s\u001b[0m 10ms/step - accuracy: 0.9657 - loss: 0.0279 - val_accuracy: 0.9680 - val_loss: 0.0264\n",
            "Epoch 33/100\n",
            "\u001b[1m432/432\u001b[0m \u001b[32m━━━━━━━━━━━━━━━━━━━━\u001b[0m\u001b[37m\u001b[0m \u001b[1m7s\u001b[0m 15ms/step - accuracy: 0.9665 - loss: 0.0278 - val_accuracy: 0.9683 - val_loss: 0.0259\n",
            "Epoch 34/100\n",
            "\u001b[1m432/432\u001b[0m \u001b[32m━━━━━━━━━━━━━━━━━━━━\u001b[0m\u001b[37m\u001b[0m \u001b[1m8s\u001b[0m 10ms/step - accuracy: 0.9661 - loss: 0.0284 - val_accuracy: 0.9689 - val_loss: 0.0257\n",
            "Epoch 35/100\n",
            "\u001b[1m432/432\u001b[0m \u001b[32m━━━━━━━━━━━━━━━━━━━━\u001b[0m\u001b[37m\u001b[0m \u001b[1m7s\u001b[0m 15ms/step - accuracy: 0.9658 - loss: 0.0284 - val_accuracy: 0.9686 - val_loss: 0.0257\n",
            "Epoch 36/100\n",
            "\u001b[1m432/432\u001b[0m \u001b[32m━━━━━━━━━━━━━━━━━━━━\u001b[0m\u001b[37m\u001b[0m \u001b[1m8s\u001b[0m 10ms/step - accuracy: 0.9671 - loss: 0.0277 - val_accuracy: 0.9690 - val_loss: 0.0255\n",
            "Epoch 37/100\n",
            "\u001b[1m432/432\u001b[0m \u001b[32m━━━━━━━━━━━━━━━━━━━━\u001b[0m\u001b[37m\u001b[0m \u001b[1m7s\u001b[0m 16ms/step - accuracy: 0.9678 - loss: 0.0269 - val_accuracy: 0.9691 - val_loss: 0.0257\n",
            "Epoch 38/100\n",
            "\u001b[1m432/432\u001b[0m \u001b[32m━━━━━━━━━━━━━━━━━━━━\u001b[0m\u001b[37m\u001b[0m \u001b[1m5s\u001b[0m 11ms/step - accuracy: 0.9666 - loss: 0.0278 - val_accuracy: 0.9689 - val_loss: 0.0257\n",
            "Epoch 39/100\n",
            "\u001b[1m432/432\u001b[0m \u001b[32m━━━━━━━━━━━━━━━━━━━━\u001b[0m\u001b[37m\u001b[0m \u001b[1m5s\u001b[0m 11ms/step - accuracy: 0.9670 - loss: 0.0280 - val_accuracy: 0.9686 - val_loss: 0.0256\n",
            "Epoch 40/100\n",
            "\u001b[1m432/432\u001b[0m \u001b[32m━━━━━━━━━━━━━━━━━━━━\u001b[0m\u001b[37m\u001b[0m \u001b[1m7s\u001b[0m 16ms/step - accuracy: 0.9668 - loss: 0.0274 - val_accuracy: 0.9694 - val_loss: 0.0252\n",
            "Epoch 41/100\n",
            "\u001b[1m432/432\u001b[0m \u001b[32m━━━━━━━━━━━━━━━━━━━━\u001b[0m\u001b[37m\u001b[0m \u001b[1m8s\u001b[0m 11ms/step - accuracy: 0.9669 - loss: 0.0275 - val_accuracy: 0.9698 - val_loss: 0.0252\n",
            "Epoch 42/100\n",
            "\u001b[1m432/432\u001b[0m \u001b[32m━━━━━━━━━━━━━━━━━━━━\u001b[0m\u001b[37m\u001b[0m \u001b[1m7s\u001b[0m 16ms/step - accuracy: 0.9670 - loss: 0.0272 - val_accuracy: 0.9694 - val_loss: 0.0252\n",
            "Epoch 43/100\n",
            "\u001b[1m432/432\u001b[0m \u001b[32m━━━━━━━━━━━━━━━━━━━━\u001b[0m\u001b[37m\u001b[0m \u001b[1m8s\u001b[0m 11ms/step - accuracy: 0.9684 - loss: 0.0267 - val_accuracy: 0.9695 - val_loss: 0.0253\n",
            "Epoch 44/100\n",
            "\u001b[1m432/432\u001b[0m \u001b[32m━━━━━━━━━━━━━━━━━━━━\u001b[0m\u001b[37m\u001b[0m \u001b[1m7s\u001b[0m 16ms/step - accuracy: 0.9673 - loss: 0.0277 - val_accuracy: 0.9694 - val_loss: 0.0255\n",
            "Epoch 45/100\n",
            "\u001b[1m432/432\u001b[0m \u001b[32m━━━━━━━━━━━━━━━━━━━━\u001b[0m\u001b[37m\u001b[0m \u001b[1m8s\u001b[0m 10ms/step - accuracy: 0.9683 - loss: 0.0273 - val_accuracy: 0.9694 - val_loss: 0.0250\n",
            "Epoch 46/100\n",
            "\u001b[1m432/432\u001b[0m \u001b[32m━━━━━━━━━━━━━━━━━━━━\u001b[0m\u001b[37m\u001b[0m \u001b[1m7s\u001b[0m 15ms/step - accuracy: 0.9690 - loss: 0.0262 - val_accuracy: 0.9700 - val_loss: 0.0250\n",
            "Epoch 47/100\n",
            "\u001b[1m432/432\u001b[0m \u001b[32m━━━━━━━━━━━━━━━━━━━━\u001b[0m\u001b[37m\u001b[0m \u001b[1m5s\u001b[0m 10ms/step - accuracy: 0.9680 - loss: 0.0267 - val_accuracy: 0.9702 - val_loss: 0.0246\n",
            "Epoch 48/100\n",
            "\u001b[1m432/432\u001b[0m \u001b[32m━━━━━━━━━━━━━━━━━━━━\u001b[0m\u001b[37m\u001b[0m \u001b[1m5s\u001b[0m 10ms/step - accuracy: 0.9686 - loss: 0.0263 - val_accuracy: 0.9705 - val_loss: 0.0245\n",
            "Epoch 49/100\n",
            "\u001b[1m432/432\u001b[0m \u001b[32m━━━━━━━━━━━━━━━━━━━━\u001b[0m\u001b[37m\u001b[0m \u001b[1m7s\u001b[0m 16ms/step - accuracy: 0.9689 - loss: 0.0265 - val_accuracy: 0.9696 - val_loss: 0.0249\n",
            "Epoch 50/100\n",
            "\u001b[1m432/432\u001b[0m \u001b[32m━━━━━━━━━━━━━━━━━━━━\u001b[0m\u001b[37m\u001b[0m \u001b[1m4s\u001b[0m 10ms/step - accuracy: 0.9672 - loss: 0.0271 - val_accuracy: 0.9707 - val_loss: 0.0244\n",
            "Epoch 51/100\n",
            "\u001b[1m432/432\u001b[0m \u001b[32m━━━━━━━━━━━━━━━━━━━━\u001b[0m\u001b[37m\u001b[0m \u001b[1m4s\u001b[0m 10ms/step - accuracy: 0.9700 - loss: 0.0252 - val_accuracy: 0.9706 - val_loss: 0.0247\n",
            "Epoch 52/100\n",
            "\u001b[1m432/432\u001b[0m \u001b[32m━━━━━━━━━━━━━━━━━━━━\u001b[0m\u001b[37m\u001b[0m \u001b[1m7s\u001b[0m 15ms/step - accuracy: 0.9693 - loss: 0.0263 - val_accuracy: 0.9708 - val_loss: 0.0244\n",
            "Epoch 53/100\n",
            "\u001b[1m432/432\u001b[0m \u001b[32m━━━━━━━━━━━━━━━━━━━━\u001b[0m\u001b[37m\u001b[0m \u001b[1m4s\u001b[0m 10ms/step - accuracy: 0.9689 - loss: 0.0267 - val_accuracy: 0.9703 - val_loss: 0.0245\n",
            "Epoch 54/100\n",
            "\u001b[1m432/432\u001b[0m \u001b[32m━━━━━━━━━━━━━━━━━━━━\u001b[0m\u001b[37m\u001b[0m \u001b[1m5s\u001b[0m 11ms/step - accuracy: 0.9698 - loss: 0.0253 - val_accuracy: 0.9706 - val_loss: 0.0245\n",
            "Epoch 55/100\n",
            "\u001b[1m432/432\u001b[0m \u001b[32m━━━━━━━━━━━━━━━━━━━━\u001b[0m\u001b[37m\u001b[0m \u001b[1m6s\u001b[0m 15ms/step - accuracy: 0.9675 - loss: 0.0271 - val_accuracy: 0.9706 - val_loss: 0.0243\n",
            "Epoch 56/100\n",
            "\u001b[1m432/432\u001b[0m \u001b[32m━━━━━━━━━━━━━━━━━━━━\u001b[0m\u001b[37m\u001b[0m \u001b[1m8s\u001b[0m 10ms/step - accuracy: 0.9680 - loss: 0.0269 - val_accuracy: 0.9705 - val_loss: 0.0249\n",
            "Epoch 57/100\n",
            "\u001b[1m432/432\u001b[0m \u001b[32m━━━━━━━━━━━━━━━━━━━━\u001b[0m\u001b[37m\u001b[0m \u001b[1m7s\u001b[0m 17ms/step - accuracy: 0.9693 - loss: 0.0263 - val_accuracy: 0.9705 - val_loss: 0.0248\n",
            "Epoch 58/100\n",
            "\u001b[1m432/432\u001b[0m \u001b[32m━━━━━━━━━━━━━━━━━━━━\u001b[0m\u001b[37m\u001b[0m \u001b[1m6s\u001b[0m 14ms/step - accuracy: 0.9680 - loss: 0.0265 - val_accuracy: 0.9707 - val_loss: 0.0247\n",
            "Epoch 59/100\n",
            "\u001b[1m432/432\u001b[0m \u001b[32m━━━━━━━━━━━━━━━━━━━━\u001b[0m\u001b[37m\u001b[0m \u001b[1m7s\u001b[0m 16ms/step - accuracy: 0.9685 - loss: 0.0263 - val_accuracy: 0.9698 - val_loss: 0.0250\n",
            "Epoch 60/100\n",
            "\u001b[1m432/432\u001b[0m \u001b[32m━━━━━━━━━━━━━━━━━━━━\u001b[0m\u001b[37m\u001b[0m \u001b[1m5s\u001b[0m 10ms/step - accuracy: 0.9687 - loss: 0.0264 - val_accuracy: 0.9707 - val_loss: 0.0245\n",
            "Epoch 61/100\n",
            "\u001b[1m432/432\u001b[0m \u001b[32m━━━━━━━━━━━━━━━━━━━━\u001b[0m\u001b[37m\u001b[0m \u001b[1m5s\u001b[0m 10ms/step - accuracy: 0.9684 - loss: 0.0259 - val_accuracy: 0.9721 - val_loss: 0.0241\n",
            "Epoch 62/100\n",
            "\u001b[1m432/432\u001b[0m \u001b[32m━━━━━━━━━━━━━━━━━━━━\u001b[0m\u001b[37m\u001b[0m \u001b[1m7s\u001b[0m 17ms/step - accuracy: 0.9685 - loss: 0.0265 - val_accuracy: 0.9708 - val_loss: 0.0246\n",
            "Epoch 63/100\n",
            "\u001b[1m432/432\u001b[0m \u001b[32m━━━━━━━━━━━━━━━━━━━━\u001b[0m\u001b[37m\u001b[0m \u001b[1m5s\u001b[0m 11ms/step - accuracy: 0.9685 - loss: 0.0268 - val_accuracy: 0.9714 - val_loss: 0.0243\n",
            "Epoch 64/100\n",
            "\u001b[1m432/432\u001b[0m \u001b[32m━━━━━━━━━━━━━━━━━━━━\u001b[0m\u001b[37m\u001b[0m \u001b[1m4s\u001b[0m 10ms/step - accuracy: 0.9696 - loss: 0.0254 - val_accuracy: 0.9709 - val_loss: 0.0242\n",
            "Epoch 65/100\n",
            "\u001b[1m432/432\u001b[0m \u001b[32m━━━━━━━━━━━━━━━━━━━━\u001b[0m\u001b[37m\u001b[0m \u001b[1m8s\u001b[0m 16ms/step - accuracy: 0.9681 - loss: 0.0264 - val_accuracy: 0.9712 - val_loss: 0.0241\n",
            "Epoch 66/100\n",
            "\u001b[1m432/432\u001b[0m \u001b[32m━━━━━━━━━━━━━━━━━━━━\u001b[0m\u001b[37m\u001b[0m \u001b[1m8s\u001b[0m 11ms/step - accuracy: 0.9695 - loss: 0.0257 - val_accuracy: 0.9712 - val_loss: 0.0241\n",
            "Epoch 67/100\n",
            "\u001b[1m432/432\u001b[0m \u001b[32m━━━━━━━━━━━━━━━━━━━━\u001b[0m\u001b[37m\u001b[0m \u001b[1m7s\u001b[0m 16ms/step - accuracy: 0.9692 - loss: 0.0258 - val_accuracy: 0.9708 - val_loss: 0.0242\n",
            "Epoch 68/100\n",
            "\u001b[1m432/432\u001b[0m \u001b[32m━━━━━━━━━━━━━━━━━━━━\u001b[0m\u001b[37m\u001b[0m \u001b[1m5s\u001b[0m 11ms/step - accuracy: 0.9715 - loss: 0.0243 - val_accuracy: 0.9698 - val_loss: 0.0254\n",
            "Epoch 69/100\n",
            "\u001b[1m432/432\u001b[0m \u001b[32m━━━━━━━━━━━━━━━━━━━━\u001b[0m\u001b[37m\u001b[0m \u001b[1m4s\u001b[0m 10ms/step - accuracy: 0.9691 - loss: 0.0263 - val_accuracy: 0.9705 - val_loss: 0.0241\n",
            "Epoch 70/100\n",
            "\u001b[1m432/432\u001b[0m \u001b[32m━━━━━━━━━━━━━━━━━━━━\u001b[0m\u001b[37m\u001b[0m \u001b[1m7s\u001b[0m 16ms/step - accuracy: 0.9702 - loss: 0.0250 - val_accuracy: 0.9712 - val_loss: 0.0244\n",
            "Epoch 71/100\n",
            "\u001b[1m432/432\u001b[0m \u001b[32m━━━━━━━━━━━━━━━━━━━━\u001b[0m\u001b[37m\u001b[0m \u001b[1m8s\u001b[0m 10ms/step - accuracy: 0.9689 - loss: 0.0260 - val_accuracy: 0.9711 - val_loss: 0.0240\n",
            "Epoch 72/100\n",
            "\u001b[1m432/432\u001b[0m \u001b[32m━━━━━━━━━━━━━━━━━━━━\u001b[0m\u001b[37m\u001b[0m \u001b[1m8s\u001b[0m 16ms/step - accuracy: 0.9695 - loss: 0.0262 - val_accuracy: 0.9719 - val_loss: 0.0239\n",
            "Epoch 73/100\n",
            "\u001b[1m432/432\u001b[0m \u001b[32m━━━━━━━━━━━━━━━━━━━━\u001b[0m\u001b[37m\u001b[0m \u001b[1m4s\u001b[0m 10ms/step - accuracy: 0.9691 - loss: 0.0259 - val_accuracy: 0.9715 - val_loss: 0.0240\n",
            "Epoch 74/100\n",
            "\u001b[1m432/432\u001b[0m \u001b[32m━━━━━━━━━━━━━━━━━━━━\u001b[0m\u001b[37m\u001b[0m \u001b[1m6s\u001b[0m 13ms/step - accuracy: 0.9703 - loss: 0.0255 - val_accuracy: 0.9709 - val_loss: 0.0246\n",
            "Epoch 75/100\n",
            "\u001b[1m432/432\u001b[0m \u001b[32m━━━━━━━━━━━━━━━━━━━━\u001b[0m\u001b[37m\u001b[0m \u001b[1m9s\u001b[0m 10ms/step - accuracy: 0.9687 - loss: 0.0270 - val_accuracy: 0.9708 - val_loss: 0.0246\n",
            "Epoch 76/100\n",
            "\u001b[1m432/432\u001b[0m \u001b[32m━━━━━━━━━━━━━━━━━━━━\u001b[0m\u001b[37m\u001b[0m \u001b[1m8s\u001b[0m 16ms/step - accuracy: 0.9703 - loss: 0.0248 - val_accuracy: 0.9716 - val_loss: 0.0239\n",
            "Epoch 77/100\n",
            "\u001b[1m432/432\u001b[0m \u001b[32m━━━━━━━━━━━━━━━━━━━━\u001b[0m\u001b[37m\u001b[0m \u001b[1m5s\u001b[0m 11ms/step - accuracy: 0.9719 - loss: 0.0246 - val_accuracy: 0.9716 - val_loss: 0.0236\n",
            "Epoch 78/100\n",
            "\u001b[1m432/432\u001b[0m \u001b[32m━━━━━━━━━━━━━━━━━━━━\u001b[0m\u001b[37m\u001b[0m \u001b[1m5s\u001b[0m 11ms/step - accuracy: 0.9696 - loss: 0.0256 - val_accuracy: 0.9710 - val_loss: 0.0237\n",
            "Epoch 79/100\n",
            "\u001b[1m432/432\u001b[0m \u001b[32m━━━━━━━━━━━━━━━━━━━━\u001b[0m\u001b[37m\u001b[0m \u001b[1m7s\u001b[0m 15ms/step - accuracy: 0.9692 - loss: 0.0263 - val_accuracy: 0.9714 - val_loss: 0.0236\n",
            "Epoch 80/100\n",
            "\u001b[1m432/432\u001b[0m \u001b[32m━━━━━━━━━━━━━━━━━━━━\u001b[0m\u001b[37m\u001b[0m \u001b[1m4s\u001b[0m 10ms/step - accuracy: 0.9704 - loss: 0.0253 - val_accuracy: 0.9710 - val_loss: 0.0242\n",
            "Epoch 81/100\n",
            "\u001b[1m432/432\u001b[0m \u001b[32m━━━━━━━━━━━━━━━━━━━━\u001b[0m\u001b[37m\u001b[0m \u001b[1m5s\u001b[0m 12ms/step - accuracy: 0.9708 - loss: 0.0250 - val_accuracy: 0.9714 - val_loss: 0.0238\n",
            "Epoch 82/100\n",
            "\u001b[1m432/432\u001b[0m \u001b[32m━━━━━━━━━━━━━━━━━━━━\u001b[0m\u001b[37m\u001b[0m \u001b[1m6s\u001b[0m 15ms/step - accuracy: 0.9690 - loss: 0.0259 - val_accuracy: 0.9721 - val_loss: 0.0238\n",
            "Epoch 83/100\n",
            "\u001b[1m432/432\u001b[0m \u001b[32m━━━━━━━━━━━━━━━━━━━━\u001b[0m\u001b[37m\u001b[0m \u001b[1m9s\u001b[0m 12ms/step - accuracy: 0.9706 - loss: 0.0253 - val_accuracy: 0.9713 - val_loss: 0.0238\n",
            "Epoch 84/100\n",
            "\u001b[1m432/432\u001b[0m \u001b[32m━━━━━━━━━━━━━━━━━━━━\u001b[0m\u001b[37m\u001b[0m \u001b[1m9s\u001b[0m 10ms/step - accuracy: 0.9698 - loss: 0.0258 - val_accuracy: 0.9715 - val_loss: 0.0240\n",
            "Epoch 85/100\n",
            "\u001b[1m432/432\u001b[0m \u001b[32m━━━━━━━━━━━━━━━━━━━━\u001b[0m\u001b[37m\u001b[0m \u001b[1m6s\u001b[0m 14ms/step - accuracy: 0.9706 - loss: 0.0251 - val_accuracy: 0.9720 - val_loss: 0.0236\n",
            "Epoch 86/100\n",
            "\u001b[1m432/432\u001b[0m \u001b[32m━━━━━━━━━━━━━━━━━━━━\u001b[0m\u001b[37m\u001b[0m \u001b[1m9s\u001b[0m 11ms/step - accuracy: 0.9708 - loss: 0.0254 - val_accuracy: 0.9723 - val_loss: 0.0236\n",
            "Epoch 87/100\n",
            "\u001b[1m432/432\u001b[0m \u001b[32m━━━━━━━━━━━━━━━━━━━━\u001b[0m\u001b[37m\u001b[0m \u001b[1m8s\u001b[0m 17ms/step - accuracy: 0.9705 - loss: 0.0253 - val_accuracy: 0.9718 - val_loss: 0.0235\n",
            "Epoch 88/100\n",
            "\u001b[1m432/432\u001b[0m \u001b[32m━━━━━━━━━━━━━━━━━━━━\u001b[0m\u001b[37m\u001b[0m \u001b[1m5s\u001b[0m 10ms/step - accuracy: 0.9712 - loss: 0.0244 - val_accuracy: 0.9705 - val_loss: 0.0245\n",
            "Epoch 89/100\n",
            "\u001b[1m432/432\u001b[0m \u001b[32m━━━━━━━━━━━━━━━━━━━━\u001b[0m\u001b[37m\u001b[0m \u001b[1m4s\u001b[0m 10ms/step - accuracy: 0.9714 - loss: 0.0247 - val_accuracy: 0.9720 - val_loss: 0.0238\n",
            "Epoch 90/100\n",
            "\u001b[1m432/432\u001b[0m \u001b[32m━━━━━━━━━━━━━━━━━━━━\u001b[0m\u001b[37m\u001b[0m \u001b[1m7s\u001b[0m 16ms/step - accuracy: 0.9700 - loss: 0.0251 - val_accuracy: 0.9696 - val_loss: 0.0250\n",
            "Epoch 91/100\n",
            "\u001b[1m432/432\u001b[0m \u001b[32m━━━━━━━━━━━━━━━━━━━━\u001b[0m\u001b[37m\u001b[0m \u001b[1m5s\u001b[0m 10ms/step - accuracy: 0.9695 - loss: 0.0256 - val_accuracy: 0.9727 - val_loss: 0.0235\n",
            "Epoch 92/100\n",
            "\u001b[1m432/432\u001b[0m \u001b[32m━━━━━━━━━━━━━━━━━━━━\u001b[0m\u001b[37m\u001b[0m \u001b[1m6s\u001b[0m 12ms/step - accuracy: 0.9710 - loss: 0.0249 - val_accuracy: 0.9715 - val_loss: 0.0240\n",
            "Epoch 93/100\n",
            "\u001b[1m432/432\u001b[0m \u001b[32m━━━━━━━━━━━━━━━━━━━━\u001b[0m\u001b[37m\u001b[0m \u001b[1m6s\u001b[0m 14ms/step - accuracy: 0.9700 - loss: 0.0256 - val_accuracy: 0.9725 - val_loss: 0.0236\n",
            "Epoch 94/100\n",
            "\u001b[1m432/432\u001b[0m \u001b[32m━━━━━━━━━━━━━━━━━━━━\u001b[0m\u001b[37m\u001b[0m \u001b[1m10s\u001b[0m 14ms/step - accuracy: 0.9703 - loss: 0.0248 - val_accuracy: 0.9718 - val_loss: 0.0236\n",
            "Epoch 95/100\n",
            "\u001b[1m432/432\u001b[0m \u001b[32m━━━━━━━━━━━━━━━━━━━━\u001b[0m\u001b[37m\u001b[0m \u001b[1m9s\u001b[0m 10ms/step - accuracy: 0.9690 - loss: 0.0263 - val_accuracy: 0.9724 - val_loss: 0.0237\n",
            "Epoch 96/100\n",
            "\u001b[1m432/432\u001b[0m \u001b[32m━━━━━━━━━━━━━━━━━━━━\u001b[0m\u001b[37m\u001b[0m \u001b[1m7s\u001b[0m 15ms/step - accuracy: 0.9710 - loss: 0.0248 - val_accuracy: 0.9720 - val_loss: 0.0237\n",
            "Epoch 97/100\n",
            "\u001b[1m432/432\u001b[0m \u001b[32m━━━━━━━━━━━━━━━━━━━━\u001b[0m\u001b[37m\u001b[0m \u001b[1m8s\u001b[0m 10ms/step - accuracy: 0.9707 - loss: 0.0252 - val_accuracy: 0.9710 - val_loss: 0.0245\n",
            "Epoch 98/100\n",
            "\u001b[1m432/432\u001b[0m \u001b[32m━━━━━━━━━━━━━━━━━━━━\u001b[0m\u001b[37m\u001b[0m \u001b[1m7s\u001b[0m 15ms/step - accuracy: 0.9697 - loss: 0.0260 - val_accuracy: 0.9720 - val_loss: 0.0234\n",
            "Epoch 99/100\n",
            "\u001b[1m432/432\u001b[0m \u001b[32m━━━━━━━━━━━━━━━━━━━━\u001b[0m\u001b[37m\u001b[0m \u001b[1m4s\u001b[0m 10ms/step - accuracy: 0.9704 - loss: 0.0247 - val_accuracy: 0.9721 - val_loss: 0.0234\n",
            "Epoch 100/100\n",
            "\u001b[1m432/432\u001b[0m \u001b[32m━━━━━━━━━━━━━━━━━━━━\u001b[0m\u001b[37m\u001b[0m \u001b[1m4s\u001b[0m 10ms/step - accuracy: 0.9695 - loss: 0.0255 - val_accuracy: 0.9716 - val_loss: 0.0237\n"
          ]
        }
      ]
    },
    {
      "cell_type": "markdown",
      "source": [
        "\n",
        "##<font color=\"green\">**Evaluación y Visualización del Rendimiento**</font>\n",
        "\n",
        "Visualizamos las curvas de precisión y pérdida para evaluar cómo ha calibrado\n",
        " el modelo."
      ],
      "metadata": {
        "id": "gqqAZoI65IkO"
      }
    },
    {
      "cell_type": "code",
      "source": [
        "# Visualizar la precisión\n",
        "plt.plot(history.history[\"accuracy\"], label= \"Precisión entrenamiento\")\n",
        "plt.plot(history.history['val_accuracy'], label= \"Precisión validación\")\n",
        "plt.xlabel(\"Épocas\")\n",
        "plt.ylabel(\"Precisión\")\n",
        "plt.legend()\n",
        "plt.show()\n",
        "\n",
        "# Visualizar la pérdida\n",
        "plt.plot(history.history['loss'], label= \"Pérdida entrenamiento\")\n",
        "plt.plot(history.history['val_loss'], label= \"Pérdida validación\")\n",
        "plt.xlabel(\"Épocas\")\n",
        "plt.ylabel(\"Pérdida\")\n",
        "plt.legend()\n",
        "plt.show()\n"
      ],
      "metadata": {
        "colab": {
          "base_uri": "https://localhost:8080/",
          "height": 885
        },
        "id": "KEcKunj25IR1",
        "outputId": "91e8c179-ad64-4635-e0cd-fb3b65e67ab7"
      },
      "execution_count": null,
      "outputs": [
        {
          "output_type": "display_data",
          "data": {
            "text/plain": [
              "<Figure size 640x480 with 1 Axes>"
            ],
            "image/png": "[encoded data removed]"
          },
          "metadata": {}
        },
        {
          "output_type": "display_data",
          "data": {
            "text/plain": [
              "<Figure size 640x480 with 1 Axes>"
            ],
            "image/png": "[encoded data removed]"
          },
          "metadata": {}
        }
      ]
    },
    {
      "cell_type": "markdown",
      "source": [
        "##<font color=\"green\">**Evaluación del Modelo**</font>\n",
        "Evaluamos el rendimiento del modelo en el conjunto de prueba."
      ],
      "metadata": {
        "id": "XyNOTTvc5nJW"
      }
    },
    {
      "cell_type": "code",
      "source": [
        "# Evaluar el modelo\n",
        "loss, accuracy = model.evaluate(X_test, y_test)\n",
        "print(f\"Pérdida en datos de prueba: {loss}\")\n",
        "print(f\"Precisión en datos de prueba: {accuracy}\")\n"
      ],
      "metadata": {
        "colab": {
          "base_uri": "https://localhost:8080/"
        },
        "id": "PhxfPRsE5mzu",
        "outputId": "156db62e-8a04-4cec-8ba9-cdfea25c9245"
      },
      "execution_count": null,
      "outputs": [
        {
          "output_type": "stream",
          "name": "stdout",
          "text": [
            "\u001b[1m740/740\u001b[0m \u001b[32m━━━━━━━━━━━━━━━━━━━━\u001b[0m\u001b[37m\u001b[0m \u001b[1m2s\u001b[0m 3ms/step - accuracy: 0.9709 - loss: 0.0241\n",
            "Pérdida en datos de prueba: 0.023695843294262886\n",
            "Precisión en datos de prueba: 0.9716470837593079\n"
          ]
        }
      ]
    },
    {
      "cell_type": "code",
      "source": [
        "\n",
        "from sklearn.metrics import precision_score, recall_score\n",
        "\n",
        "# Hacemos las predicciones del modelo\n",
        "y_pred = (model.predict(X_test) > 0.3).astype(\"int32\")\n",
        "\n",
        "# Calculamos la precisión y el recall\n",
        "precision = precision_score(y_test, y_pred)\n",
        "recall = recall_score(y_test, y_pred)\n",
        "\n",
        "# Mostramos los resultados\n",
        "print(f'Precisión: {precision}')\n",
        "print(f'Recall: {recall}')\n"
      ],
      "metadata": {
        "colab": {
          "base_uri": "https://localhost:8080/"
        },
        "id": "T9YBrsK1XtGb",
        "outputId": "7af52332-93ec-4dd5-a570-a376a956acb6"
      },
      "execution_count": null,
      "outputs": [
        {
          "output_type": "stream",
          "name": "stdout",
          "text": [
            "\u001b[1m740/740\u001b[0m \u001b[32m━━━━━━━━━━━━━━━━━━━━\u001b[0m\u001b[37m\u001b[0m \u001b[1m3s\u001b[0m 4ms/step\n",
            "Precisión: 0.7435610302351624\n",
            "Recall: 0.5918003565062389\n"
          ]
        }
      ]
    },
    {
      "cell_type": "markdown",
      "source": [
        "##<font color=\"green\">**Guardar el Modelo para Futuras Predicciones**</font>\n",
        "Podemos guardar el modelo entrenado para utilizarlo en predicciones futuras."
      ],
      "metadata": {
        "id": "v-H93yaG590U"
      }
    },
    {
      "cell_type": "code",
      "source": [
        "# Guardar el modelo\n",
        "model.save(\"modelo_rnn_lstm_motor_electrico.h5\")"
      ],
      "metadata": {
        "id": "nP-zLHKU58Pv",
        "colab": {
          "base_uri": "https://localhost:8080/"
        },
        "outputId": "db3682b7-cdf4-4f5e-c7cb-f7357405bc73"
      },
      "execution_count": null,
      "outputs": [
        {
          "output_type": "stream",
          "name": "stderr",
          "text": [
            "WARNING:absl:You are saving your model as an HDF5 file via `model.save()` or `keras.saving.save_model(model)`. This file format is considered legacy. We recommend using instead the native Keras format, e.g. `model.save('my_model.keras')` or `keras.saving.save_model(model, 'my_model.keras')`. \n"
          ]
        }
      ]
    },
    {
      "cell_type": "code",
      "source": [
        "from sklearn.metrics import roc_curve, auc\n",
        "\n",
        "# Obtener las probabilidades de predicción en el conjunto de prueba\n",
        "y_pred_prob = model.predict(X_test)\n",
        "\n",
        "# Calcular los puntos para la curva ROC\n",
        "fpr, tpr, thresholds = roc_curve(y_test, y_pred_prob)\n",
        "\n",
        "# Calcular el área bajo la curva (AUC)\n",
        "roc_auc = auc(fpr, tpr)\n",
        "\n",
        "# Graficar la curva ROC\n",
        "plt.figure()\n",
        "plt.plot(fpr, tpr, color= \"darkorange\", lw=2, label=f\"Curva ROC (area = {roc_auc:.2f})\")\n",
        "plt.plot([0, 1], [0, 1], color= \"navy\", lw=2, linestyle='--')  # Línea de referencia\n",
        "plt.xlim([0.0, 1.0])\n",
        "plt.ylim([0.0, 1.05])\n",
        "plt.xlabel(\"Tasa de Falsos Positivos\")\n",
        "plt.ylabel(\"Tasa de Verdaderos Positivos\")\n",
        "plt.title(\"Curva ROC\")\n",
        "plt.legend(loc= \"lower right\")\n",
        "plt.show()\n"
      ],
      "metadata": {
        "colab": {
          "base_uri": "https://localhost:8080/",
          "height": 489
        },
        "id": "yMsMciNTCRdM",
        "outputId": "fde15f39-e31d-48a8-ac17-c26e5ab0899f"
      },
      "execution_count": null,
      "outputs": [
        {
          "output_type": "stream",
          "name": "stdout",
          "text": [
            "\u001b[1m740/740\u001b[0m \u001b[32m━━━━━━━━━━━━━━━━━━━━\u001b[0m\u001b[37m\u001b[0m \u001b[1m2s\u001b[0m 2ms/step\n"
          ]
        },
        {
          "output_type": "display_data",
          "data": {
            "text/plain": [
              "<Figure size 640x480 with 1 Axes>"
            ],
            "image/png": "[encoded data removed]"
          },
          "metadata": {}
        }
      ]
    },
    {
      "cell_type": "code",
      "source": [
        "# Generamos la matriz de confusión\n",
        "cm = confusion_matrix(y_test, y_pred)\n",
        "\n",
        "# Visualizamos la matriz de confusión\n",
        "plt.figure(figsize=(6,6))\n",
        "sns.heatmap(cm, annot=True, fmt='g', cmap='Blues', cbar=False)\n",
        "plt.xlabel(\"Predicción\")\n",
        "plt.ylabel(\"Valor Real\")\n",
        "plt.title(\"Matriz de Confusión\")\n",
        "plt.show()\n"
      ],
      "metadata": {
        "colab": {
          "base_uri": "https://localhost:8080/",
          "height": 564
        },
        "id": "HQvZyph7GkMy",
        "outputId": "cfd39276-1f79-4a22-c6e1-fbd2d51aebc2"
      },
      "execution_count": null,
      "outputs": [
        {
          "output_type": "display_data",
          "data": {
            "text/plain": [
              "<Figure size 600x600 with 1 Axes>"
            ],
            "image/png": "[encoded data removed]"
          },
          "metadata": {}
        }
      ]
    }
  ]
}